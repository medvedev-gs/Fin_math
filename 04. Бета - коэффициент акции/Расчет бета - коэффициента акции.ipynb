{
 "cells": [
  {
   "cell_type": "markdown",
   "id": "ec85ec52",
   "metadata": {},
   "source": [
    "# Расчет бета - коэффициента акции"
   ]
  },
  {
   "cell_type": "markdown",
   "id": "22c7047b",
   "metadata": {},
   "source": [
    "## Описание:"
   ]
  },
  {
   "cell_type": "markdown",
   "id": "c647d404",
   "metadata": {},
   "source": [
    "Бета - коэффициент является индикатором степени риска той или иной акции и показывает, на сколько процентов изменится стоимость акции при изменении рыночного индекса на один процент.\n",
    "\n",
    "В данном упражнении проведем расчет бета коэффициента на примере котировок обыкновенных акции Сбербанка и индекса Московской биржи.\n",
    "\n",
    "К-т рассчитан двумя способами - через ковариацию и через коэффициент линейной регрессии. Результаты ниже."
   ]
  },
  {
   "cell_type": "markdown",
   "id": "5844c11c",
   "metadata": {},
   "source": [
    "## Импортируем библиотеки:"
   ]
  },
  {
   "cell_type": "code",
   "execution_count": 1,
   "id": "fd939aa3",
   "metadata": {},
   "outputs": [],
   "source": [
    "import pandas as pd\n",
    "import matplotlib.pyplot as plt\n",
    "import seaborn as sns\n",
    "from sklearn.linear_model import LinearRegression"
   ]
  },
  {
   "cell_type": "code",
   "execution_count": 2,
   "id": "c3f58d7a",
   "metadata": {},
   "outputs": [],
   "source": [
    "sns.set_theme()"
   ]
  },
  {
   "cell_type": "markdown",
   "id": "5a7a5903",
   "metadata": {},
   "source": [
    "## Зададим константу (наименования столбцов в импортируемом файле)"
   ]
  },
  {
   "cell_type": "code",
   "execution_count": 3,
   "id": "12a812c1",
   "metadata": {},
   "outputs": [],
   "source": [
    "COLUMNS = ['TICKER', 'PER', 'DATE', 'TIME', 'OPEN', 'HIGH', 'LOW', 'CLOSE', 'VOL']"
   ]
  },
  {
   "cell_type": "markdown",
   "id": "7039155b",
   "metadata": {},
   "source": [
    "## Зададим пользовательскте функции"
   ]
  },
  {
   "cell_type": "markdown",
   "id": "716567d2",
   "metadata": {},
   "source": [
    "#### Функция парсинга и предобработки файла"
   ]
  },
  {
   "cell_type": "code",
   "execution_count": 4,
   "id": "393ea794",
   "metadata": {},
   "outputs": [],
   "source": [
    "def parse_and_preprocess(path):\n",
    "    data = pd.read_csv(path)\n",
    "    data.columns = COLUMNS\n",
    "    data['DATE'] = pd.to_datetime(data['DATE'], format = '%Y%m%d')\n",
    "    data.sort_values(by = 'DATE', inplace=True)\n",
    "    data.set_index('DATE', drop = True, inplace=True)\n",
    "    return data"
   ]
  },
  {
   "cell_type": "markdown",
   "id": "cce81bef",
   "metadata": {},
   "source": [
    "#### Функция первичного обзора файла"
   ]
  },
  {
   "cell_type": "code",
   "execution_count": 5,
   "id": "a5fd24ad",
   "metadata": {},
   "outputs": [],
   "source": [
    "def init_observ(data):\n",
    "    print('Выведем датафрейм на экран:')\n",
    "    display(data)\n",
    "    print('Сводная информация по датафрейму:')\n",
    "    data.info()\n",
    "    print('Проверим наличие пропусков данных:')\n",
    "    print(data.isna().sum())\n",
    "    print('Распечатаем график цен закрытия:')\n",
    "    data['CLOSE'].plot(figsize = (15, 9))\n",
    "    plt.show()"
   ]
  },
  {
   "cell_type": "markdown",
   "id": "a3e8463f",
   "metadata": {},
   "source": [
    "## Загрузка и обзор данных"
   ]
  },
  {
   "cell_type": "markdown",
   "id": "d3d4bbd6",
   "metadata": {},
   "source": [
    "### Индекс Московской биржи"
   ]
  },
  {
   "cell_type": "markdown",
   "id": "0f5fe3ee",
   "metadata": {},
   "source": [
    "#### Загрузка"
   ]
  },
  {
   "cell_type": "code",
   "execution_count": 6,
   "id": "b26a6069",
   "metadata": {},
   "outputs": [],
   "source": [
    "moex = parse_and_preprocess('IMOEX_200101_230308.csv')"
   ]
  },
  {
   "cell_type": "markdown",
   "id": "c75002cc",
   "metadata": {},
   "source": [
    "#### Обзор"
   ]
  },
  {
   "cell_type": "code",
   "execution_count": 7,
   "id": "92dd5946",
   "metadata": {
    "scrolled": false
   },
   "outputs": [
    {
     "name": "stdout",
     "output_type": "stream",
     "text": [
      "Выведем датафрейм на экран:\n"
     ]
    },
    {
     "data": {
      "text/html": [
       "<div>\n",
       "<style scoped>\n",
       "    .dataframe tbody tr th:only-of-type {\n",
       "        vertical-align: middle;\n",
       "    }\n",
       "\n",
       "    .dataframe tbody tr th {\n",
       "        vertical-align: top;\n",
       "    }\n",
       "\n",
       "    .dataframe thead th {\n",
       "        text-align: right;\n",
       "    }\n",
       "</style>\n",
       "<table border=\"1\" class=\"dataframe\">\n",
       "  <thead>\n",
       "    <tr style=\"text-align: right;\">\n",
       "      <th></th>\n",
       "      <th>TICKER</th>\n",
       "      <th>PER</th>\n",
       "      <th>TIME</th>\n",
       "      <th>OPEN</th>\n",
       "      <th>HIGH</th>\n",
       "      <th>LOW</th>\n",
       "      <th>CLOSE</th>\n",
       "      <th>VOL</th>\n",
       "    </tr>\n",
       "    <tr>\n",
       "      <th>DATE</th>\n",
       "      <th></th>\n",
       "      <th></th>\n",
       "      <th></th>\n",
       "      <th></th>\n",
       "      <th></th>\n",
       "      <th></th>\n",
       "      <th></th>\n",
       "      <th></th>\n",
       "    </tr>\n",
       "  </thead>\n",
       "  <tbody>\n",
       "    <tr>\n",
       "      <th>2020-01-03</th>\n",
       "      <td>IMOEX</td>\n",
       "      <td>D</td>\n",
       "      <td>0</td>\n",
       "      <td>3059.20</td>\n",
       "      <td>3086.09</td>\n",
       "      <td>3057.36</td>\n",
       "      <td>3076.37</td>\n",
       "      <td>44508670839</td>\n",
       "    </tr>\n",
       "    <tr>\n",
       "      <th>2020-01-06</th>\n",
       "      <td>IMOEX</td>\n",
       "      <td>D</td>\n",
       "      <td>0</td>\n",
       "      <td>3075.32</td>\n",
       "      <td>3079.42</td>\n",
       "      <td>3059.47</td>\n",
       "      <td>3078.87</td>\n",
       "      <td>39130289767</td>\n",
       "    </tr>\n",
       "    <tr>\n",
       "      <th>2020-01-08</th>\n",
       "      <td>IMOEX</td>\n",
       "      <td>D</td>\n",
       "      <td>0</td>\n",
       "      <td>3076.63</td>\n",
       "      <td>3112.01</td>\n",
       "      <td>3071.88</td>\n",
       "      <td>3110.06</td>\n",
       "      <td>53007480525</td>\n",
       "    </tr>\n",
       "    <tr>\n",
       "      <th>2020-01-09</th>\n",
       "      <td>IMOEX</td>\n",
       "      <td>D</td>\n",
       "      <td>0</td>\n",
       "      <td>3105.21</td>\n",
       "      <td>3124.60</td>\n",
       "      <td>3094.85</td>\n",
       "      <td>3118.08</td>\n",
       "      <td>58694873429</td>\n",
       "    </tr>\n",
       "    <tr>\n",
       "      <th>2020-01-10</th>\n",
       "      <td>IMOEX</td>\n",
       "      <td>D</td>\n",
       "      <td>0</td>\n",
       "      <td>3117.42</td>\n",
       "      <td>3130.92</td>\n",
       "      <td>3101.21</td>\n",
       "      <td>3123.66</td>\n",
       "      <td>44984451737</td>\n",
       "    </tr>\n",
       "    <tr>\n",
       "      <th>...</th>\n",
       "      <td>...</td>\n",
       "      <td>...</td>\n",
       "      <td>...</td>\n",
       "      <td>...</td>\n",
       "      <td>...</td>\n",
       "      <td>...</td>\n",
       "      <td>...</td>\n",
       "      <td>...</td>\n",
       "    </tr>\n",
       "    <tr>\n",
       "      <th>2023-03-01</th>\n",
       "      <td>IMOEX</td>\n",
       "      <td>D</td>\n",
       "      <td>0</td>\n",
       "      <td>2261.57</td>\n",
       "      <td>2287.35</td>\n",
       "      <td>2255.63</td>\n",
       "      <td>2279.65</td>\n",
       "      <td>39921732841</td>\n",
       "    </tr>\n",
       "    <tr>\n",
       "      <th>2023-03-02</th>\n",
       "      <td>IMOEX</td>\n",
       "      <td>D</td>\n",
       "      <td>0</td>\n",
       "      <td>2284.30</td>\n",
       "      <td>2286.20</td>\n",
       "      <td>2235.53</td>\n",
       "      <td>2254.30</td>\n",
       "      <td>50638414113</td>\n",
       "    </tr>\n",
       "    <tr>\n",
       "      <th>2023-03-03</th>\n",
       "      <td>IMOEX</td>\n",
       "      <td>D</td>\n",
       "      <td>0</td>\n",
       "      <td>2250.71</td>\n",
       "      <td>2273.46</td>\n",
       "      <td>2249.81</td>\n",
       "      <td>2272.20</td>\n",
       "      <td>26674798417</td>\n",
       "    </tr>\n",
       "    <tr>\n",
       "      <th>2023-03-06</th>\n",
       "      <td>IMOEX</td>\n",
       "      <td>D</td>\n",
       "      <td>0</td>\n",
       "      <td>2286.04</td>\n",
       "      <td>2297.86</td>\n",
       "      <td>2283.40</td>\n",
       "      <td>2294.12</td>\n",
       "      <td>33447350732</td>\n",
       "    </tr>\n",
       "    <tr>\n",
       "      <th>2023-03-07</th>\n",
       "      <td>IMOEX</td>\n",
       "      <td>D</td>\n",
       "      <td>0</td>\n",
       "      <td>2293.82</td>\n",
       "      <td>2298.87</td>\n",
       "      <td>2281.52</td>\n",
       "      <td>2295.60</td>\n",
       "      <td>24547914157</td>\n",
       "    </tr>\n",
       "  </tbody>\n",
       "</table>\n",
       "<p>785 rows × 8 columns</p>\n",
       "</div>"
      ],
      "text/plain": [
       "           TICKER PER  TIME     OPEN     HIGH      LOW    CLOSE          VOL\n",
       "DATE                                                                        \n",
       "2020-01-03  IMOEX   D     0  3059.20  3086.09  3057.36  3076.37  44508670839\n",
       "2020-01-06  IMOEX   D     0  3075.32  3079.42  3059.47  3078.87  39130289767\n",
       "2020-01-08  IMOEX   D     0  3076.63  3112.01  3071.88  3110.06  53007480525\n",
       "2020-01-09  IMOEX   D     0  3105.21  3124.60  3094.85  3118.08  58694873429\n",
       "2020-01-10  IMOEX   D     0  3117.42  3130.92  3101.21  3123.66  44984451737\n",
       "...           ...  ..   ...      ...      ...      ...      ...          ...\n",
       "2023-03-01  IMOEX   D     0  2261.57  2287.35  2255.63  2279.65  39921732841\n",
       "2023-03-02  IMOEX   D     0  2284.30  2286.20  2235.53  2254.30  50638414113\n",
       "2023-03-03  IMOEX   D     0  2250.71  2273.46  2249.81  2272.20  26674798417\n",
       "2023-03-06  IMOEX   D     0  2286.04  2297.86  2283.40  2294.12  33447350732\n",
       "2023-03-07  IMOEX   D     0  2293.82  2298.87  2281.52  2295.60  24547914157\n",
       "\n",
       "[785 rows x 8 columns]"
      ]
     },
     "metadata": {},
     "output_type": "display_data"
    },
    {
     "name": "stdout",
     "output_type": "stream",
     "text": [
      "Сводная информация по датафрейму:\n",
      "<class 'pandas.core.frame.DataFrame'>\n",
      "DatetimeIndex: 785 entries, 2020-01-03 to 2023-03-07\n",
      "Data columns (total 8 columns):\n",
      " #   Column  Non-Null Count  Dtype  \n",
      "---  ------  --------------  -----  \n",
      " 0   TICKER  785 non-null    object \n",
      " 1   PER     785 non-null    object \n",
      " 2   TIME    785 non-null    int64  \n",
      " 3   OPEN    785 non-null    float64\n",
      " 4   HIGH    785 non-null    float64\n",
      " 5   LOW     785 non-null    float64\n",
      " 6   CLOSE   785 non-null    float64\n",
      " 7   VOL     785 non-null    int64  \n",
      "dtypes: float64(4), int64(2), object(2)\n",
      "memory usage: 55.2+ KB\n",
      "Проверим наличие пропусков данных:\n",
      "TICKER    0\n",
      "PER       0\n",
      "TIME      0\n",
      "OPEN      0\n",
      "HIGH      0\n",
      "LOW       0\n",
      "CLOSE     0\n",
      "VOL       0\n",
      "dtype: int64\n",
      "Распечатаем график цен закрытия:\n"
     ]
    },
    {
     "data": {
      "image/png": "[encoded data removed]",
      "text/plain": [
       "<Figure size 1080x648 with 1 Axes>"
      ]
     },
     "metadata": {},
     "output_type": "display_data"
    }
   ],
   "source": [
    "init_observ(moex)"
   ]
  },
  {
   "cell_type": "markdown",
   "id": "c5ff8088",
   "metadata": {},
   "source": [
    "### Сбербанк ао"
   ]
  },
  {
   "cell_type": "markdown",
   "id": "fc5f3396",
   "metadata": {},
   "source": [
    "#### Загрузка"
   ]
  },
  {
   "cell_type": "code",
   "execution_count": 8,
   "id": "c0b4f747",
   "metadata": {},
   "outputs": [],
   "source": [
    "sbrf = parse_and_preprocess('SBER_200101_230308.csv')"
   ]
  },
  {
   "cell_type": "markdown",
   "id": "c048ac8a",
   "metadata": {},
   "source": [
    "#### Обзор датафрейма"
   ]
  },
  {
   "cell_type": "code",
   "execution_count": 9,
   "id": "a2778514",
   "metadata": {
    "scrolled": false
   },
   "outputs": [
    {
     "name": "stdout",
     "output_type": "stream",
     "text": [
      "Выведем датафрейм на экран:\n"
     ]
    },
    {
     "data": {
      "text/html": [
       "<div>\n",
       "<style scoped>\n",
       "    .dataframe tbody tr th:only-of-type {\n",
       "        vertical-align: middle;\n",
       "    }\n",
       "\n",
       "    .dataframe tbody tr th {\n",
       "        vertical-align: top;\n",
       "    }\n",
       "\n",
       "    .dataframe thead th {\n",
       "        text-align: right;\n",
       "    }\n",
       "</style>\n",
       "<table border=\"1\" class=\"dataframe\">\n",
       "  <thead>\n",
       "    <tr style=\"text-align: right;\">\n",
       "      <th></th>\n",
       "      <th>TICKER</th>\n",
       "      <th>PER</th>\n",
       "      <th>TIME</th>\n",
       "      <th>OPEN</th>\n",
       "      <th>HIGH</th>\n",
       "      <th>LOW</th>\n",
       "      <th>CLOSE</th>\n",
       "      <th>VOL</th>\n",
       "    </tr>\n",
       "    <tr>\n",
       "      <th>DATE</th>\n",
       "      <th></th>\n",
       "      <th></th>\n",
       "      <th></th>\n",
       "      <th></th>\n",
       "      <th></th>\n",
       "      <th></th>\n",
       "      <th></th>\n",
       "      <th></th>\n",
       "    </tr>\n",
       "  </thead>\n",
       "  <tbody>\n",
       "    <tr>\n",
       "      <th>2020-01-03</th>\n",
       "      <td>SBER</td>\n",
       "      <td>D</td>\n",
       "      <td>0</td>\n",
       "      <td>255.97</td>\n",
       "      <td>258.19</td>\n",
       "      <td>253.70</td>\n",
       "      <td>255.00</td>\n",
       "      <td>35824160</td>\n",
       "    </tr>\n",
       "    <tr>\n",
       "      <th>2020-01-06</th>\n",
       "      <td>SBER</td>\n",
       "      <td>D</td>\n",
       "      <td>0</td>\n",
       "      <td>254.75</td>\n",
       "      <td>254.84</td>\n",
       "      <td>251.40</td>\n",
       "      <td>253.90</td>\n",
       "      <td>22327940</td>\n",
       "    </tr>\n",
       "    <tr>\n",
       "      <th>2020-01-08</th>\n",
       "      <td>SBER</td>\n",
       "      <td>D</td>\n",
       "      <td>0</td>\n",
       "      <td>253.62</td>\n",
       "      <td>259.15</td>\n",
       "      <td>253.03</td>\n",
       "      <td>259.15</td>\n",
       "      <td>40736030</td>\n",
       "    </tr>\n",
       "    <tr>\n",
       "      <th>2020-01-09</th>\n",
       "      <td>SBER</td>\n",
       "      <td>D</td>\n",
       "      <td>0</td>\n",
       "      <td>259.41</td>\n",
       "      <td>261.76</td>\n",
       "      <td>257.01</td>\n",
       "      <td>257.99</td>\n",
       "      <td>38196300</td>\n",
       "    </tr>\n",
       "    <tr>\n",
       "      <th>2020-01-10</th>\n",
       "      <td>SBER</td>\n",
       "      <td>D</td>\n",
       "      <td>0</td>\n",
       "      <td>257.91</td>\n",
       "      <td>259.25</td>\n",
       "      <td>256.88</td>\n",
       "      <td>258.19</td>\n",
       "      <td>18841650</td>\n",
       "    </tr>\n",
       "    <tr>\n",
       "      <th>...</th>\n",
       "      <td>...</td>\n",
       "      <td>...</td>\n",
       "      <td>...</td>\n",
       "      <td>...</td>\n",
       "      <td>...</td>\n",
       "      <td>...</td>\n",
       "      <td>...</td>\n",
       "      <td>...</td>\n",
       "    </tr>\n",
       "    <tr>\n",
       "      <th>2023-03-01</th>\n",
       "      <td>SBER</td>\n",
       "      <td>D</td>\n",
       "      <td>0</td>\n",
       "      <td>170.40</td>\n",
       "      <td>171.66</td>\n",
       "      <td>169.50</td>\n",
       "      <td>170.53</td>\n",
       "      <td>53655680</td>\n",
       "    </tr>\n",
       "    <tr>\n",
       "      <th>2023-03-02</th>\n",
       "      <td>SBER</td>\n",
       "      <td>D</td>\n",
       "      <td>0</td>\n",
       "      <td>170.40</td>\n",
       "      <td>170.40</td>\n",
       "      <td>166.55</td>\n",
       "      <td>168.05</td>\n",
       "      <td>86014000</td>\n",
       "    </tr>\n",
       "    <tr>\n",
       "      <th>2023-03-03</th>\n",
       "      <td>SBER</td>\n",
       "      <td>D</td>\n",
       "      <td>0</td>\n",
       "      <td>168.20</td>\n",
       "      <td>171.26</td>\n",
       "      <td>167.90</td>\n",
       "      <td>171.16</td>\n",
       "      <td>49424990</td>\n",
       "    </tr>\n",
       "    <tr>\n",
       "      <th>2023-03-06</th>\n",
       "      <td>SBER</td>\n",
       "      <td>D</td>\n",
       "      <td>0</td>\n",
       "      <td>172.13</td>\n",
       "      <td>172.99</td>\n",
       "      <td>171.35</td>\n",
       "      <td>171.84</td>\n",
       "      <td>64237540</td>\n",
       "    </tr>\n",
       "    <tr>\n",
       "      <th>2023-03-07</th>\n",
       "      <td>SBER</td>\n",
       "      <td>D</td>\n",
       "      <td>0</td>\n",
       "      <td>171.87</td>\n",
       "      <td>174.20</td>\n",
       "      <td>171.00</td>\n",
       "      <td>174.01</td>\n",
       "      <td>55231190</td>\n",
       "    </tr>\n",
       "  </tbody>\n",
       "</table>\n",
       "<p>784 rows × 8 columns</p>\n",
       "</div>"
      ],
      "text/plain": [
       "           TICKER PER  TIME    OPEN    HIGH     LOW   CLOSE       VOL\n",
       "DATE                                                                 \n",
       "2020-01-03   SBER   D     0  255.97  258.19  253.70  255.00  35824160\n",
       "2020-01-06   SBER   D     0  254.75  254.84  251.40  253.90  22327940\n",
       "2020-01-08   SBER   D     0  253.62  259.15  253.03  259.15  40736030\n",
       "2020-01-09   SBER   D     0  259.41  261.76  257.01  257.99  38196300\n",
       "2020-01-10   SBER   D     0  257.91  259.25  256.88  258.19  18841650\n",
       "...           ...  ..   ...     ...     ...     ...     ...       ...\n",
       "2023-03-01   SBER   D     0  170.40  171.66  169.50  170.53  53655680\n",
       "2023-03-02   SBER   D     0  170.40  170.40  166.55  168.05  86014000\n",
       "2023-03-03   SBER   D     0  168.20  171.26  167.90  171.16  49424990\n",
       "2023-03-06   SBER   D     0  172.13  172.99  171.35  171.84  64237540\n",
       "2023-03-07   SBER   D     0  171.87  174.20  171.00  174.01  55231190\n",
       "\n",
       "[784 rows x 8 columns]"
      ]
     },
     "metadata": {},
     "output_type": "display_data"
    },
    {
     "name": "stdout",
     "output_type": "stream",
     "text": [
      "Сводная информация по датафрейму:\n",
      "<class 'pandas.core.frame.DataFrame'>\n",
      "DatetimeIndex: 784 entries, 2020-01-03 to 2023-03-07\n",
      "Data columns (total 8 columns):\n",
      " #   Column  Non-Null Count  Dtype  \n",
      "---  ------  --------------  -----  \n",
      " 0   TICKER  784 non-null    object \n",
      " 1   PER     784 non-null    object \n",
      " 2   TIME    784 non-null    int64  \n",
      " 3   OPEN    784 non-null    float64\n",
      " 4   HIGH    784 non-null    float64\n",
      " 5   LOW     784 non-null    float64\n",
      " 6   CLOSE   784 non-null    float64\n",
      " 7   VOL     784 non-null    int64  \n",
      "dtypes: float64(4), int64(2), object(2)\n",
      "memory usage: 55.1+ KB\n",
      "Проверим наличие пропусков данных:\n",
      "TICKER    0\n",
      "PER       0\n",
      "TIME      0\n",
      "OPEN      0\n",
      "HIGH      0\n",
      "LOW       0\n",
      "CLOSE     0\n",
      "VOL       0\n",
      "dtype: int64\n",
      "Распечатаем график цен закрытия:\n"
     ]
    },
    {
     "data": {
      "image/png": "[encoded data removed]",
      "text/plain": [
       "<Figure size 1080x648 with 1 Axes>"
      ]
     },
     "metadata": {},
     "output_type": "display_data"
    }
   ],
   "source": [
    "init_observ(sbrf)"
   ]
  },
  {
   "cell_type": "markdown",
   "id": "9cc55ce4",
   "metadata": {},
   "source": [
    "## Расчет"
   ]
  },
  {
   "cell_type": "markdown",
   "id": "0ea76f1a",
   "metadata": {},
   "source": [
    "Перед тем как расчитать бета - коэффициент нам необходимо посчитать дневные доходности индекса и акции."
   ]
  },
  {
   "cell_type": "code",
   "execution_count": 10,
   "id": "0852cdde",
   "metadata": {},
   "outputs": [],
   "source": [
    "moex['returns'] = moex['CLOSE'].pct_change()"
   ]
  },
  {
   "cell_type": "code",
   "execution_count": 11,
   "id": "5ddc7aa9",
   "metadata": {},
   "outputs": [],
   "source": [
    "sbrf['returns'] = sbrf['CLOSE'].pct_change()"
   ]
  },
  {
   "cell_type": "markdown",
   "id": "4ac20dc1",
   "metadata": {},
   "source": [
    "Теперь оставим данные только за те дни, за которые имеются котировки и по индексу и по акции."
   ]
  },
  {
   "cell_type": "code",
   "execution_count": 12,
   "id": "e702e5c1",
   "metadata": {},
   "outputs": [],
   "source": [
    "moex = moex.dropna()"
   ]
  },
  {
   "cell_type": "code",
   "execution_count": 13,
   "id": "2c086672",
   "metadata": {},
   "outputs": [],
   "source": [
    "sbrf = sbrf.dropna()"
   ]
  },
  {
   "cell_type": "code",
   "execution_count": 14,
   "id": "d58868f6",
   "metadata": {},
   "outputs": [],
   "source": [
    "moex, sbrf = moex.align(sbrf, join = 'inner', axis = 0)"
   ]
  },
  {
   "cell_type": "markdown",
   "id": "1f962f9b",
   "metadata": {},
   "source": [
    "#### Первый подход предполагает расчет беты через ковариацию доходностей акции и индекса "
   ]
  },
  {
   "cell_type": "code",
   "execution_count": 15,
   "id": "fb911c48",
   "metadata": {},
   "outputs": [],
   "source": [
    "covariance = sbrf['returns'].cov(moex['returns'])"
   ]
  },
  {
   "cell_type": "code",
   "execution_count": 16,
   "id": "0c417823",
   "metadata": {},
   "outputs": [
    {
     "name": "stdout",
     "output_type": "stream",
     "text": [
      "К-т ковариации: 0.000482\n"
     ]
    }
   ],
   "source": [
    "print('К-т ковариации: {:.6f}'.format(covariance))"
   ]
  },
  {
   "cell_type": "markdown",
   "id": "9c8d262a",
   "metadata": {},
   "source": [
    "Бета к-т равен отношению к-та ковариации к дисперсии дневных доходностей индекса."
   ]
  },
  {
   "cell_type": "code",
   "execution_count": 17,
   "id": "1cbe90a4",
   "metadata": {},
   "outputs": [],
   "source": [
    "beta = covariance / moex['returns'].var()"
   ]
  },
  {
   "cell_type": "code",
   "execution_count": 18,
   "id": "c1ed29e6",
   "metadata": {},
   "outputs": [
    {
     "name": "stdout",
     "output_type": "stream",
     "text": [
      "Бета ао Сбербанк: 1.0340\n"
     ]
    }
   ],
   "source": [
    "print('Бета ао Сбербанк: {:.4f}'.format(beta))"
   ]
  },
  {
   "cell_type": "markdown",
   "id": "3931073d",
   "metadata": {},
   "source": [
    "#### Второй подход предполагает расчет беты через нахождение к-та линейной регрессии доходностей акции к доходности индекса"
   ]
  },
  {
   "cell_type": "code",
   "execution_count": 19,
   "id": "6b7b3ada",
   "metadata": {},
   "outputs": [],
   "source": [
    "lm = LinearRegression()"
   ]
  },
  {
   "cell_type": "code",
   "execution_count": 20,
   "id": "d5fe94f6",
   "metadata": {},
   "outputs": [],
   "source": [
    "x = moex[['returns']]"
   ]
  },
  {
   "cell_type": "code",
   "execution_count": 21,
   "id": "22a5ca9a",
   "metadata": {},
   "outputs": [],
   "source": [
    "y = sbrf[['returns']]"
   ]
  },
  {
   "cell_type": "code",
   "execution_count": 22,
   "id": "50998ccd",
   "metadata": {},
   "outputs": [
    {
     "data": {
      "text/plain": [
       "LinearRegression()"
      ]
     },
     "execution_count": 22,
     "metadata": {},
     "output_type": "execute_result"
    }
   ],
   "source": [
    "lm.fit(x, y)"
   ]
  },
  {
   "cell_type": "code",
   "execution_count": 23,
   "id": "238e8fc5",
   "metadata": {},
   "outputs": [
    {
     "name": "stdout",
     "output_type": "stream",
     "text": [
      "Бета ао Сбербанк: 1.0340\n"
     ]
    }
   ],
   "source": [
    "print('Бета ао Сбербанк: {:.4f}'.format((lm.coef_)[0][0]))"
   ]
  },
  {
   "cell_type": "markdown",
   "id": "cf9301cf",
   "metadata": {},
   "source": [
    "## Выводы:"
   ]
  },
  {
   "cell_type": "markdown",
   "id": "55364f80",
   "metadata": {},
   "source": [
    "Как видим, бета Сбера практически равна единице, что означает, что в акции практически отсутствует специфический риск."
   ]
  }
 ],
 "metadata": {
  "kernelspec": {
   "display_name": "Python 3 (ipykernel)",
   "language": "python",
   "name": "python3"
  },
  "language_info": {
   "codemirror_mode": {
    "name": "ipython",
    "version": 3
   },
   "file_extension": ".py",
   "mimetype": "text/x-python",
   "name": "python",
   "nbconvert_exporter": "python",
   "pygments_lexer": "ipython3",
   "version": "3.9.12"
  }
 },
 "nbformat": 4,
 "nbformat_minor": 5
}
